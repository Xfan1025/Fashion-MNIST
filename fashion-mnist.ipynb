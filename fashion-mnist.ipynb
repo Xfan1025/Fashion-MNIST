{
 "cells": [
  {
   "cell_type": "code",
   "execution_count": null,
   "metadata": {
    "collapsed": true
   },
   "outputs": [],
   "source": [
    "# _________________________________________________________________\n",
    "# Layer (type)                 Output Shape              Param #   \n",
    "# =================================================================\n",
    "# input_1 (InputLayer)         (None, 1, 28, 28)         0         \n",
    "# _________________________________________________________________\n",
    "# batch_normalization_1 (Batch (None, 1, 28, 28)         112       \n",
    "# _________________________________________________________________\n",
    "# conv2d_1 (Conv2D)            (None, 64, 24, 24)        1664      \n",
    "# _________________________________________________________________\n",
    "# max_pooling2d_1 (MaxPooling2 (None, 64, 12, 12)        0         \n",
    "# _________________________________________________________________\n",
    "# conv2d_2 (Conv2D)            (None, 128, 8, 8)         204928    \n",
    "# _________________________________________________________________\n",
    "# max_pooling2d_2 (MaxPooling2 (None, 128, 4, 4)         0         \n",
    "# _________________________________________________________________\n",
    "# flatten_1 (Flatten)          (None, 2048)              0         \n",
    "# _________________________________________________________________\n",
    "# dense_1 (Dense)              (None, 256)               524544    \n",
    "# _________________________________________________________________\n",
    "# dropout_1 (Dropout)          (None, 256)               0         \n",
    "# _________________________________________________________________\n",
    "# dense_2 (Dense)              (None, 128)               32896     \n",
    "# _________________________________________________________________\n",
    "# dropout_2 (Dropout)          (None, 128)               0         \n",
    "# _________________________________________________________________\n",
    "# dense_3 (Dense)              (None, 10)                1290      \n",
    "# ================================================================="
   ]
  },
  {
   "cell_type": "code",
   "execution_count": 1,
   "metadata": {
    "_cell_guid": "2a46da40-444d-47a4-9829-94d4b05236dc",
    "_uuid": "ecba9230f6fc853da30cbdbb6b9c456d5a3a4930"
   },
   "outputs": [
    {
     "name": "stderr",
     "output_type": "stream",
     "text": [
      "Using TensorFlow backend.\n"
     ]
    }
   ],
   "source": [
    "# import essentials\n",
    "import numpy as np\n",
    "import pandas as pd\n",
    "import matplotlib.image as mpim\n",
    "import matplotlib.pyplot as plt\n",
    "%matplotlib inline\n",
    "\n",
    "from keras import backend as K\n",
    "K.set_image_dim_ordering('th')\n",
    "from keras.utils import np_utils\n",
    "from sklearn.model_selection import train_test_split\n",
    "from keras.models import Sequential\n",
    "from keras.layers import Dense, Dropout, Flatten, Reshape, InputLayer\n",
    "from keras.layers.normalization import BatchNormalization\n",
    "from keras.layers.convolutional import Conv2D, MaxPooling2D"
   ]
  },
  {
   "cell_type": "code",
   "execution_count": 2,
   "metadata": {
    "_cell_guid": "b574bf1b-b3a3-4e7d-9b59-e9aea6c99862",
    "_uuid": "1ca0e7d5369c09fc76ee761cc991ea1872886330",
    "collapsed": true
   },
   "outputs": [],
   "source": [
    "# load data locally\n",
    "# you may want to check out loading data directly from keras\n",
    "# https://keras.io/datasets/#fashion-mnist-database-of-fashion-articles\n",
    "train_data = pd.read_csv('./data/train.csv')\n",
    "test_data = pd.read_csv('./data/test.csv')"
   ]
  },
  {
   "cell_type": "code",
   "execution_count": 3,
   "metadata": {
    "_cell_guid": "e75dd0fd-2441-44b8-b628-11d61eefa3d3",
    "_uuid": "9f6d9e8e02ea6b0317bd01eb6e2b96daf5b0a154",
    "collapsed": true
   },
   "outputs": [],
   "source": [
    "# build a dictionary for easy access to object classes\n",
    "objects = {0: 'T-shirt/top',\n",
    "           1: 'Trouser',\n",
    "           2: 'Pullover',\n",
    "           3: 'Dress',\n",
    "           4: 'Coat',\n",
    "           5: 'Sandal',\n",
    "           6: 'Shirt',\n",
    "           7: 'Sneaker',\n",
    "           8: 'Bag',\n",
    "           9: 'Ankle boot'}"
   ]
  },
  {
   "cell_type": "code",
   "execution_count": 4,
   "metadata": {
    "_cell_guid": "da11c5af-3e43-4b5b-9de1-d1e625492974",
    "_uuid": "53bfdbbc4e0393a9f1148727996bf84eef54b405"
   },
   "outputs": [
    {
     "data": {
      "image/png": "[encoded data removed]",
      "text/plain": [
       "<matplotlib.figure.Figure at 0x7f2a9f221400>"
      ]
     },
     "metadata": {},
     "output_type": "display_data"
    }
   ],
   "source": [
    "# let's have a quick look of those images\n",
    "f, axes = plt.subplots(2, 4)\n",
    "for row in axes:\n",
    "    for axe in row:\n",
    "        index = np.random.randint(10000)\n",
    "        img = np.array(train_data.iloc[index, 1:]).reshape((28, 28))\n",
    "        obj = train_data.iloc[index, 0]\n",
    "        axe.imshow(img, cmap='gray')\n",
    "        axe.set_title(objects[obj])"
   ]
  },
  {
   "cell_type": "code",
   "execution_count": 5,
   "metadata": {
    "_cell_guid": "7abca928-b2ef-4998-8180-e0488af1d2b3",
    "_uuid": "01411f30fdc7e59c88e8af2870fe1d79047222d5",
    "collapsed": true
   },
   "outputs": [],
   "source": [
    "# separate the training data into images and labels\n",
    "images = train_data.iloc[:, 1:]\n",
    "labels = train_data.iloc[:, 0]"
   ]
  },
  {
   "cell_type": "code",
   "execution_count": 6,
   "metadata": {
    "_cell_guid": "9616dd5d-4ce9-46f2-9eeb-8d736ac05a2b",
    "_uuid": "29a563f4b1c470d802bedef9fe28d2834a38523b",
    "collapsed": true
   },
   "outputs": [],
   "source": [
    "# reshape the images to fit CNNs\n",
    "labels = labels.as_matrix()\n",
    "images = images.as_matrix().reshape(images.shape[0], 1, 28, 28)"
   ]
  },
  {
   "cell_type": "code",
   "execution_count": 7,
   "metadata": {
    "_cell_guid": "d484a082-3b63-46a7-8739-420de46b8880",
    "_uuid": "561cd36d95a751f871ce5b6db75687a63d7c7690",
    "collapsed": true
   },
   "outputs": [],
   "source": [
    "# one-hot encoding for labels\n",
    "labels = np_utils.to_categorical(labels)"
   ]
  },
  {
   "cell_type": "code",
   "execution_count": 8,
   "metadata": {
    "_cell_guid": "b6ab6d0a-f5f7-4a90-a8ab-c163bff3d1e6",
    "_uuid": "ec80d3320ba156b627be948a65570b168c01a119",
    "collapsed": true
   },
   "outputs": [],
   "source": [
    "# divide data into training and validation set\n",
    "train_features, vali_features, train_labels, vali_labels = train_test_split(images, labels, \n",
    "                                                                           test_size=0.15, random_state=200)"
   ]
  },
  {
   "cell_type": "code",
   "execution_count": 9,
   "metadata": {
    "_cell_guid": "05913b8b-d08a-499f-b20d-7f982c6fbbee",
    "_uuid": "12545f1ec9921f7c404bec78321e444be28da958"
   },
   "outputs": [
    {
     "name": "stdout",
     "output_type": "stream",
     "text": [
      "train_features shape:  (51000, 1, 28, 28)\n",
      "vali_features shape:  (9000, 1, 28, 28)\n",
      "train_labels shape:  (51000, 10)\n",
      "vali_labels shape:  (9000, 10)\n"
     ]
    }
   ],
   "source": [
    "# check data shapes\n",
    "print('train_features shape: ', train_features.shape)\n",
    "print('vali_features shape: ', vali_features.shape)\n",
    "print('train_labels shape: ', train_labels.shape)\n",
    "print('vali_labels shape: ', vali_labels.shape)"
   ]
  },
  {
   "cell_type": "code",
   "execution_count": 23,
   "metadata": {
    "_cell_guid": "b86402fd-0beb-437f-ba05-c7a9bf890023",
    "_uuid": "b866ec6bf3bc0464d0a882e0c3f14b4bdcafe536",
    "collapsed": true
   },
   "outputs": [],
   "source": [
    "# hyperparameters\n",
    "epochs = 30\n",
    "batch_size = 256\n",
    "\n",
    "# build model\n",
    "n_classes = 10\n",
    "model = Sequential()\n",
    "\n",
    "\n",
    "# input layer\n",
    "model.add(InputLayer(input_shape=(1, 28, 28)))\n",
    "\n",
    "# normalization\n",
    "model.add(BatchNormalization())\n",
    "\n",
    "model.add(Conv2D(64, (5, 5), activation='relu',\n",
    "          bias_initializer='RandomNormal', kernel_initializer='random_uniform'))\n",
    "\n",
    "\n",
    "model.add(MaxPooling2D(pool_size=(2, 2)))\n",
    "\n",
    "model.add(Conv2D(512, (5, 5), activation='relu'))\n",
    "\n",
    "model.add(MaxPooling2D(pool_size=(2, 2)))\n",
    "\n",
    "model.add(Flatten())\n",
    "\n",
    "model.add(Dense(128, activation='relu'))\n",
    "\n",
    "model.add(Dropout(0.35))\n",
    "\n",
    "model.add(Dense(64, activation='relu'))\n",
    "\n",
    "model.add(Dropout(0.35))\n",
    "# model.add(Dense(64, activation='relu'))\n",
    "# model.add(Dropout(0.5))\n",
    "model.add(Dense(n_classes, activation='softmax'))"
   ]
  },
  {
   "cell_type": "code",
   "execution_count": null,
   "metadata": {
    "collapsed": true
   },
   "outputs": [],
   "source": []
  },
  {
   "cell_type": "code",
   "execution_count": 24,
   "metadata": {
    "_cell_guid": "dca9df43-814c-4463-9768-5427d5b312eb",
    "_uuid": "7c81ffd573b3f119dc631c597912e5dca5811e19",
    "collapsed": true
   },
   "outputs": [],
   "source": [
    "from keras.optimizers import Adam\n",
    "opt = Adam(decay=0.001)"
   ]
  },
  {
   "cell_type": "code",
   "execution_count": 25,
   "metadata": {
    "_cell_guid": "e79248a7-8dee-40fe-91e5-3389c634c39c",
    "_uuid": "66aac56507d15659b3c23b9282acd8e2b6b0f4ba",
    "collapsed": true
   },
   "outputs": [],
   "source": [
    "# compile the model\n",
    "model.compile(optimizer=opt,\n",
    "              loss='categorical_crossentropy',\n",
    "              metrics=['accuracy'])"
   ]
  },
  {
   "cell_type": "code",
   "execution_count": 26,
   "metadata": {
    "scrolled": true
   },
   "outputs": [
    {
     "name": "stdout",
     "output_type": "stream",
     "text": [
      "_________________________________________________________________\n",
      "Layer (type)                 Output Shape              Param #   \n",
      "=================================================================\n",
      "input_3 (InputLayer)         (None, 1, 28, 28)         0         \n",
      "_________________________________________________________________\n",
      "batch_normalization_3 (Batch (None, 1, 28, 28)         112       \n",
      "_________________________________________________________________\n",
      "conv2d_5 (Conv2D)            (None, 64, 24, 24)        1664      \n",
      "_________________________________________________________________\n",
      "max_pooling2d_5 (MaxPooling2 (None, 64, 12, 12)        0         \n",
      "_________________________________________________________________\n",
      "conv2d_6 (Conv2D)            (None, 512, 8, 8)         819712    \n",
      "_________________________________________________________________\n",
      "max_pooling2d_6 (MaxPooling2 (None, 512, 4, 4)         0         \n",
      "_________________________________________________________________\n",
      "flatten_3 (Flatten)          (None, 8192)              0         \n",
      "_________________________________________________________________\n",
      "dense_7 (Dense)              (None, 128)               1048704   \n",
      "_________________________________________________________________\n",
      "dropout_5 (Dropout)          (None, 128)               0         \n",
      "_________________________________________________________________\n",
      "dense_8 (Dense)              (None, 64)                8256      \n",
      "_________________________________________________________________\n",
      "dropout_6 (Dropout)          (None, 64)                0         \n",
      "_________________________________________________________________\n",
      "dense_9 (Dense)              (None, 10)                650       \n",
      "=================================================================\n",
      "Total params: 1,879,098\n",
      "Trainable params: 1,879,042\n",
      "Non-trainable params: 56\n",
      "_________________________________________________________________\n",
      "None\n"
     ]
    }
   ],
   "source": [
    "print(model.summary())"
   ]
  },
  {
   "cell_type": "code",
   "execution_count": 27,
   "metadata": {
    "_cell_guid": "41951e18-782f-4c61-bffe-17227b0900de",
    "_uuid": "4c355690a9be1b8f6d7a64d9734c8d2e6d8030c0",
    "scrolled": true
   },
   "outputs": [
    {
     "name": "stdout",
     "output_type": "stream",
     "text": [
      "Train on 51000 samples, validate on 9000 samples\n",
      "Epoch 1/30\n",
      "51000/51000 [==============================] - 25s - loss: 0.7554 - acc: 0.7336 - val_loss: 0.3804 - val_acc: 0.8639\n",
      "Epoch 2/30\n",
      "51000/51000 [==============================] - 24s - loss: 0.4353 - acc: 0.8511 - val_loss: 0.3099 - val_acc: 0.8904\n",
      "Epoch 3/30\n",
      "51000/51000 [==============================] - 24s - loss: 0.3608 - acc: 0.8767 - val_loss: 0.2810 - val_acc: 0.8993\n",
      "Epoch 4/30\n",
      "51000/51000 [==============================] - 24s - loss: 0.3156 - acc: 0.8936 - val_loss: 0.2528 - val_acc: 0.9077\n",
      "Epoch 5/30\n",
      "51000/51000 [==============================] - 24s - loss: 0.2816 - acc: 0.9036 - val_loss: 0.2407 - val_acc: 0.9133\n",
      "Epoch 6/30\n",
      "51000/51000 [==============================] - 24s - loss: 0.2525 - acc: 0.9128 - val_loss: 0.2289 - val_acc: 0.9209\n",
      "Epoch 7/30\n",
      "51000/51000 [==============================] - 24s - loss: 0.2293 - acc: 0.9200 - val_loss: 0.2241 - val_acc: 0.9220\n",
      "Epoch 8/30\n",
      "51000/51000 [==============================] - 24s - loss: 0.2090 - acc: 0.9272 - val_loss: 0.2223 - val_acc: 0.9222\n",
      "Epoch 9/30\n",
      "51000/51000 [==============================] - 24s - loss: 0.1934 - acc: 0.9317 - val_loss: 0.2134 - val_acc: 0.9246\n",
      "Epoch 10/30\n",
      "51000/51000 [==============================] - 24s - loss: 0.1780 - acc: 0.9377 - val_loss: 0.2217 - val_acc: 0.9244\n",
      "Epoch 11/30\n",
      "51000/51000 [==============================] - 24s - loss: 0.1656 - acc: 0.9408 - val_loss: 0.2176 - val_acc: 0.9270\n",
      "Epoch 12/30\n",
      "51000/51000 [==============================] - 24s - loss: 0.1531 - acc: 0.9461 - val_loss: 0.2169 - val_acc: 0.9292\n",
      "Epoch 13/30\n",
      "51000/51000 [==============================] - 24s - loss: 0.1402 - acc: 0.9509 - val_loss: 0.2127 - val_acc: 0.9297\n",
      "Epoch 14/30\n",
      "51000/51000 [==============================] - 24s - loss: 0.1306 - acc: 0.9542 - val_loss: 0.2214 - val_acc: 0.9268\n",
      "Epoch 15/30\n",
      "51000/51000 [==============================] - 24s - loss: 0.1179 - acc: 0.9586 - val_loss: 0.2284 - val_acc: 0.9264\n",
      "Epoch 16/30\n",
      "51000/51000 [==============================] - 24s - loss: 0.1103 - acc: 0.9620 - val_loss: 0.2292 - val_acc: 0.9288\n",
      "Epoch 17/30\n",
      "51000/51000 [==============================] - 24s - loss: 0.0999 - acc: 0.9657 - val_loss: 0.2278 - val_acc: 0.9307\n",
      "Epoch 18/30\n",
      "51000/51000 [==============================] - 24s - loss: 0.0912 - acc: 0.9678 - val_loss: 0.2432 - val_acc: 0.9268\n",
      "Epoch 19/30\n",
      "51000/51000 [==============================] - 24s - loss: 0.0854 - acc: 0.9699 - val_loss: 0.2447 - val_acc: 0.9301\n",
      "Epoch 20/30\n",
      "51000/51000 [==============================] - 24s - loss: 0.0777 - acc: 0.9736 - val_loss: 0.2572 - val_acc: 0.9310\n",
      "Epoch 21/30\n",
      "51000/51000 [==============================] - 24s - loss: 0.0715 - acc: 0.9749 - val_loss: 0.2666 - val_acc: 0.9293\n",
      "Epoch 22/30\n",
      "51000/51000 [==============================] - 24s - loss: 0.0669 - acc: 0.9759 - val_loss: 0.2634 - val_acc: 0.9302\n",
      "Epoch 23/30\n",
      "51000/51000 [==============================] - 24s - loss: 0.0610 - acc: 0.9785 - val_loss: 0.2649 - val_acc: 0.9319\n",
      "Epoch 24/30\n",
      "51000/51000 [==============================] - 24s - loss: 0.0582 - acc: 0.9798 - val_loss: 0.2684 - val_acc: 0.9308\n",
      "Epoch 25/30\n",
      "51000/51000 [==============================] - 24s - loss: 0.0543 - acc: 0.9801 - val_loss: 0.2772 - val_acc: 0.9286\n",
      "Epoch 26/30\n",
      "51000/51000 [==============================] - 24s - loss: 0.0488 - acc: 0.9829 - val_loss: 0.2917 - val_acc: 0.9296\n",
      "Epoch 27/30\n",
      "51000/51000 [==============================] - 24s - loss: 0.0465 - acc: 0.9842 - val_loss: 0.2815 - val_acc: 0.9293\n",
      "Epoch 28/30\n",
      "51000/51000 [==============================] - 24s - loss: 0.0416 - acc: 0.9850 - val_loss: 0.2942 - val_acc: 0.9293\n",
      "Epoch 29/30\n",
      "51000/51000 [==============================] - 24s - loss: 0.0392 - acc: 0.9860 - val_loss: 0.3126 - val_acc: 0.9314\n",
      "Epoch 30/30\n",
      "51000/51000 [==============================] - 24s - loss: 0.0357 - acc: 0.9876 - val_loss: 0.3048 - val_acc: 0.9316\n"
     ]
    }
   ],
   "source": [
    "# training\n",
    "import time\n",
    "start_time = time.time()\n",
    "\n",
    "training = model.fit(train_features, train_labels,\n",
    "                     validation_data=(vali_features, vali_labels),\n",
    "                     epochs=epochs,\n",
    "                     batch_size=batch_size, \n",
    "                     verbose=1)\n",
    "training_time = time.time() - start_time"
   ]
  },
  {
   "cell_type": "code",
   "execution_count": 28,
   "metadata": {},
   "outputs": [
    {
     "name": "stdout",
     "output_type": "stream",
     "text": [
      "Training 30 epochs in 12:11.4\n"
     ]
    },
    {
     "data": {
      "image/png": "[encoded data removed]",
      "text/plain": [
       "<matplotlib.figure.Figure at 0x7f2a5c05a4a8>"
      ]
     },
     "metadata": {},
     "output_type": "display_data"
    },
    {
     "data": {
      "image/png": "[encoded data removed]",
      "text/plain": [
       "<matplotlib.figure.Figure at 0x7f2a9f244f98>"
      ]
     },
     "metadata": {},
     "output_type": "display_data"
    }
   ],
   "source": [
    "mm = training_time // 60\n",
    "ss = training_time % 60\n",
    "print('Training {} epochs in {}:{}'.format(epochs, int(mm), round(ss, 1)))\n",
    "\n",
    "# show the loss and accuracy\n",
    "loss = training.history['loss']\n",
    "val_loss = training.history['val_loss']\n",
    "acc = training.history['acc']\n",
    "val_acc = training.history['val_acc']\n",
    "\n",
    "# loss plot\n",
    "tra = plt.plot(loss)\n",
    "val = plt.plot(val_loss, 'r')\n",
    "plt.xlabel('Epochs')\n",
    "plt.ylabel('Loss')\n",
    "plt.title('Loss')\n",
    "plt.legend([\"Training\", \"Validation\"])\n",
    "\n",
    "plt.show()\n",
    "\n",
    "# accuracy plot\n",
    "plt.plot(acc)\n",
    "plt.plot(val_acc, 'r')\n",
    "plt.xlabel('Epochs')\n",
    "plt.ylabel('Loss')\n",
    "plt.title('Accuracy')\n",
    "plt.legend(['Training', 'Validation'], loc=4)\n",
    "plt.show()"
   ]
  },
  {
   "cell_type": "code",
   "execution_count": null,
   "metadata": {
    "collapsed": true
   },
   "outputs": [],
   "source": []
  },
  {
   "cell_type": "code",
   "execution_count": 29,
   "metadata": {
    "_cell_guid": "76748dc5-cd6c-4af9-b4da-6c7c34baa75a",
    "_uuid": "391704a5b8526a35012390e2a4b080014ec93ccf",
    "collapsed": true
   },
   "outputs": [],
   "source": [
    "test_images = test_data.iloc[:, 1:]\n",
    "test_labels = test_data.iloc[:, 0]\n",
    "test_labels = test_labels.as_matrix()\n",
    "test_features = test_images.as_matrix().reshape(test_images.shape[0], 1, 28, 28)"
   ]
  },
  {
   "cell_type": "code",
   "execution_count": 30,
   "metadata": {
    "_cell_guid": "95d2c70b-6d36-43a5-9e87-fba511e5e203",
    "_uuid": "da3c749102e096c5a27cba30fbb401c1a4f02757",
    "collapsed": true,
    "scrolled": true
   },
   "outputs": [],
   "source": [
    "from sklearn.metrics import accuracy_score\n",
    "pred = model.predict(test_features)\n",
    "# convert predicions from categorical back to 0...9 digits\n",
    "pred_digits = np.argmax(pred, axis=1)"
   ]
  },
  {
   "cell_type": "code",
   "execution_count": 31,
   "metadata": {
    "_cell_guid": "6eeec6de-125a-42cf-aaf2-7d1fc5a97bdc",
    "_uuid": "7f8c2336391815120ff1dca3afb9b46636038497"
   },
   "outputs": [
    {
     "data": {
      "text/plain": [
       "0.93230000000000002"
      ]
     },
     "execution_count": 31,
     "metadata": {},
     "output_type": "execute_result"
    }
   ],
   "source": [
    "accuracy_score(test_labels, pred_digits)"
   ]
  },
  {
   "cell_type": "markdown",
   "metadata": {
    "_cell_guid": "779e52c2-ffeb-4a19-a918-0ac3398548fe",
    "_uuid": "d09074914146365c5f3575f81033592fbb3622e3",
    "collapsed": true
   },
   "source": [
    "# original MNIST"
   ]
  },
  {
   "cell_type": "code",
   "execution_count": 32,
   "metadata": {},
   "outputs": [
    {
     "name": "stdout",
     "output_type": "stream",
     "text": [
      "Downloading data from https://s3.amazonaws.com/img-datasets/mnist.npz\n",
      "11460608/11490434 [============================>.] - ETA: 0s"
     ]
    }
   ],
   "source": [
    "from keras.datasets import mnist\n",
    "\n",
    "(x_train, y_train), (x_test, y_test) = mnist.load_data()"
   ]
  },
  {
   "cell_type": "code",
   "execution_count": 33,
   "metadata": {},
   "outputs": [
    {
     "data": {
      "image/png": "[encoded data removed]",
      "text/plain": [
       "<matplotlib.figure.Figure at 0x7f2a3d6a1be0>"
      ]
     },
     "metadata": {},
     "output_type": "display_data"
    }
   ],
   "source": [
    "f, axes = plt.subplots(2, 4)\n",
    "for row in axes:\n",
    "    for axe in row:\n",
    "        index = np.random.randint(10000)\n",
    "        img = x_train[index]\n",
    "        obj = y_train[index]\n",
    "        axe.imshow(img, cmap='gray')\n",
    "        axe.set_title(obj)"
   ]
  },
  {
   "cell_type": "code",
   "execution_count": 35,
   "metadata": {
    "collapsed": true,
    "scrolled": true
   },
   "outputs": [],
   "source": [
    "train_features = x_train.reshape((x_train.shape[0], 1, 28, 28))\n",
    "test_features = x_test.reshape((x_test.shape[0], 1, 28, 28))"
   ]
  },
  {
   "cell_type": "code",
   "execution_count": 36,
   "metadata": {
    "collapsed": true
   },
   "outputs": [],
   "source": [
    "train_labels = np_utils.to_categorical(y_train)\n",
    "\n",
    "# divide data into training and validation set\n",
    "train_features, vali_features, train_labels, vali_labels = train_test_split(train_features, train_labels, \n",
    "                                                                           test_size=0.15, random_state=80)"
   ]
  },
  {
   "cell_type": "code",
   "execution_count": 37,
   "metadata": {
    "collapsed": true
   },
   "outputs": [],
   "source": [
    "# hyperparameters\n",
    "epochs = 30\n",
    "batch_size = 256\n",
    "\n",
    "# build model2\n",
    "n_classes = 10\n",
    "model2 = Sequential()\n",
    "\n",
    "\n",
    "# input layer\n",
    "model2.add(InputLayer(input_shape=(1, 28, 28)))\n",
    "\n",
    "# normalization\n",
    "model2.add(BatchNormalization())\n",
    "\n",
    "model2.add(Conv2D(64, (5, 5), activation='relu',\n",
    "          bias_initializer='RandomNormal', kernel_initializer='random_uniform'))\n",
    "\n",
    "\n",
    "model2.add(MaxPooling2D(pool_size=(2, 2)))\n",
    "\n",
    "model2.add(Conv2D(512, (5, 5), activation='relu'))\n",
    "\n",
    "model2.add(MaxPooling2D(pool_size=(2, 2)))\n",
    "\n",
    "model2.add(Flatten())\n",
    "\n",
    "model2.add(Dense(128, activation='relu'))\n",
    "\n",
    "model2.add(Dropout(0.35))\n",
    "\n",
    "model2.add(Dense(64, activation='relu'))\n",
    "\n",
    "model2.add(Dropout(0.35))\n",
    "\n",
    "model2.add(Dense(n_classes, activation='softmax'))"
   ]
  },
  {
   "cell_type": "code",
   "execution_count": 38,
   "metadata": {
    "collapsed": true
   },
   "outputs": [],
   "source": [
    "opt = Adam(decay=0.001)\n",
    "# compile the model\n",
    "model2.compile(optimizer=opt,\n",
    "              loss='categorical_crossentropy',\n",
    "              metrics=['accuracy'])"
   ]
  },
  {
   "cell_type": "code",
   "execution_count": 39,
   "metadata": {
    "scrolled": true
   },
   "outputs": [
    {
     "name": "stdout",
     "output_type": "stream",
     "text": [
      "Train on 51000 samples, validate on 9000 samples\n",
      "Epoch 1/30\n",
      "51000/51000 [==============================] - 24s - loss: 0.3541 - acc: 0.8907 - val_loss: 0.0734 - val_acc: 0.9794\n",
      "Epoch 2/30\n",
      "51000/51000 [==============================] - 24s - loss: 0.0910 - acc: 0.9757 - val_loss: 0.0436 - val_acc: 0.9872\n",
      "Epoch 3/30\n",
      "51000/51000 [==============================] - 24s - loss: 0.0623 - acc: 0.9838 - val_loss: 0.0435 - val_acc: 0.9878\n",
      "Epoch 4/30\n",
      "51000/51000 [==============================] - 24s - loss: 0.0468 - acc: 0.9871 - val_loss: 0.0331 - val_acc: 0.9901\n",
      "Epoch 5/30\n",
      "51000/51000 [==============================] - 24s - loss: 0.0383 - acc: 0.9902 - val_loss: 0.0301 - val_acc: 0.9916\n",
      "Epoch 6/30\n",
      "51000/51000 [==============================] - 24s - loss: 0.0264 - acc: 0.9925 - val_loss: 0.0340 - val_acc: 0.9916\n",
      "Epoch 7/30\n",
      "51000/51000 [==============================] - 24s - loss: 0.0238 - acc: 0.9935 - val_loss: 0.0294 - val_acc: 0.9923\n",
      "Epoch 8/30\n",
      "51000/51000 [==============================] - 24s - loss: 0.0198 - acc: 0.9947 - val_loss: 0.0316 - val_acc: 0.9926\n",
      "Epoch 9/30\n",
      "51000/51000 [==============================] - 24s - loss: 0.0160 - acc: 0.9954 - val_loss: 0.0313 - val_acc: 0.9933\n",
      "Epoch 10/30\n",
      "51000/51000 [==============================] - 24s - loss: 0.0146 - acc: 0.9960 - val_loss: 0.0301 - val_acc: 0.9930\n",
      "Epoch 11/30\n",
      "51000/51000 [==============================] - 24s - loss: 0.0117 - acc: 0.9970 - val_loss: 0.0325 - val_acc: 0.9931\n",
      "Epoch 12/30\n",
      "51000/51000 [==============================] - 24s - loss: 0.0111 - acc: 0.9967 - val_loss: 0.0319 - val_acc: 0.9933\n",
      "Epoch 13/30\n",
      "51000/51000 [==============================] - 24s - loss: 0.0111 - acc: 0.9971 - val_loss: 0.0306 - val_acc: 0.9936\n",
      "Epoch 14/30\n",
      "51000/51000 [==============================] - 24s - loss: 0.0095 - acc: 0.9974 - val_loss: 0.0308 - val_acc: 0.9938\n",
      "Epoch 15/30\n",
      "51000/51000 [==============================] - 24s - loss: 0.0073 - acc: 0.9982 - val_loss: 0.0329 - val_acc: 0.9930\n",
      "Epoch 16/30\n",
      "51000/51000 [==============================] - 24s - loss: 0.0066 - acc: 0.9981 - val_loss: 0.0347 - val_acc: 0.9927\n",
      "Epoch 17/30\n",
      "51000/51000 [==============================] - 24s - loss: 0.0062 - acc: 0.9982 - val_loss: 0.0310 - val_acc: 0.9946\n",
      "Epoch 18/30\n",
      "51000/51000 [==============================] - 24s - loss: 0.0049 - acc: 0.9989 - val_loss: 0.0367 - val_acc: 0.9932\n",
      "Epoch 19/30\n",
      "51000/51000 [==============================] - 24s - loss: 0.0051 - acc: 0.9984 - val_loss: 0.0344 - val_acc: 0.9939\n",
      "Epoch 20/30\n",
      "51000/51000 [==============================] - 24s - loss: 0.0052 - acc: 0.9985 - val_loss: 0.0376 - val_acc: 0.9933\n",
      "Epoch 21/30\n",
      "51000/51000 [==============================] - 24s - loss: 0.0044 - acc: 0.9987 - val_loss: 0.0359 - val_acc: 0.9943\n",
      "Epoch 22/30\n",
      "51000/51000 [==============================] - 24s - loss: 0.0038 - acc: 0.9988 - val_loss: 0.0334 - val_acc: 0.9942\n",
      "Epoch 23/30\n",
      "51000/51000 [==============================] - 24s - loss: 0.0035 - acc: 0.9988 - val_loss: 0.0351 - val_acc: 0.9939\n",
      "Epoch 24/30\n",
      "51000/51000 [==============================] - 24s - loss: 0.0042 - acc: 0.9987 - val_loss: 0.0312 - val_acc: 0.9946\n",
      "Epoch 25/30\n",
      "51000/51000 [==============================] - 24s - loss: 0.0042 - acc: 0.9989 - val_loss: 0.0386 - val_acc: 0.9932\n",
      "Epoch 26/30\n",
      "51000/51000 [==============================] - 24s - loss: 0.0042 - acc: 0.9988 - val_loss: 0.0344 - val_acc: 0.9937\n",
      "Epoch 27/30\n",
      "51000/51000 [==============================] - 24s - loss: 0.0026 - acc: 0.9993 - val_loss: 0.0375 - val_acc: 0.9938\n",
      "Epoch 28/30\n",
      "51000/51000 [==============================] - 24s - loss: 0.0028 - acc: 0.9994 - val_loss: 0.0358 - val_acc: 0.9943\n",
      "Epoch 29/30\n",
      "51000/51000 [==============================] - 24s - loss: 0.0020 - acc: 0.9995 - val_loss: 0.0373 - val_acc: 0.9940\n",
      "Epoch 30/30\n",
      "51000/51000 [==============================] - 24s - loss: 0.0021 - acc: 0.9994 - val_loss: 0.0419 - val_acc: 0.9943\n"
     ]
    }
   ],
   "source": [
    "training2 = model2.fit(train_features, train_labels,\n",
    "                     validation_data=(vali_features, vali_labels),\n",
    "                     epochs=epochs,\n",
    "                     batch_size=batch_size, \n",
    "                     verbose=1)"
   ]
  },
  {
   "cell_type": "code",
   "execution_count": 40,
   "metadata": {},
   "outputs": [
    {
     "name": "stdout",
     "output_type": "stream",
     "text": [
      "Training 30 epochs in 12:11.4\n"
     ]
    },
    {
     "data": {
      "image/png": "[encoded data removed]",
      "text/plain": [
       "<matplotlib.figure.Figure at 0x7f2a6ed51438>"
      ]
     },
     "metadata": {},
     "output_type": "display_data"
    },
    {
     "data": {
      "image/png": "[encoded data removed]",
      "text/plain": [
       "<matplotlib.figure.Figure at 0x7f2a3d703d68>"
      ]
     },
     "metadata": {},
     "output_type": "display_data"
    }
   ],
   "source": [
    "mm = training_time // 60\n",
    "ss = training_time % 60\n",
    "print('Training {} epochs in {}:{}'.format(epochs, int(mm), round(ss, 1)))\n",
    "\n",
    "# show the loss and accuracy\n",
    "loss = training2.history['loss']\n",
    "val_loss = training2.history['val_loss']\n",
    "acc = training2.history['acc']\n",
    "val_acc = training2.history['val_acc']\n",
    "\n",
    "# loss plot\n",
    "tra = plt.plot(loss)\n",
    "val = plt.plot(val_loss, 'r')\n",
    "plt.xlabel('Epochs')\n",
    "plt.ylabel('Loss')\n",
    "plt.title('Loss')\n",
    "plt.legend([\"Training\", \"Validation\"])\n",
    "\n",
    "plt.show()\n",
    "\n",
    "# accuracy plot\n",
    "plt.plot(acc)\n",
    "plt.plot(val_acc, 'r')\n",
    "plt.xlabel('Epochs')\n",
    "plt.ylabel('Loss')\n",
    "plt.title('Accuracy')\n",
    "plt.legend(['Training', 'Validation'], loc=4)\n",
    "plt.show()"
   ]
  },
  {
   "cell_type": "code",
   "execution_count": 42,
   "metadata": {},
   "outputs": [],
   "source": [
    "test_labels = y_test\n",
    "pred = model2.predict(test_features)\n",
    "# convert predicions from categorical back to 0...9 digits\n",
    "pred_digits = np.argmax(pred, axis=1)"
   ]
  },
  {
   "cell_type": "code",
   "execution_count": 43,
   "metadata": {},
   "outputs": [
    {
     "data": {
      "text/plain": [
       "0.99419999999999997"
      ]
     },
     "execution_count": 43,
     "metadata": {},
     "output_type": "execute_result"
    }
   ],
   "source": [
    "accuracy_score(test_labels, pred_digits)"
   ]
  },
  {
   "cell_type": "code",
   "execution_count": null,
   "metadata": {
    "collapsed": true
   },
   "outputs": [],
   "source": []
  }
 ],
 "metadata": {
  "kernelspec": {
   "display_name": "Python 3",
   "language": "python",
   "name": "python3"
  },
  "language_info": {
   "codemirror_mode": {
    "name": "ipython",
    "version": 3
   },
   "file_extension": ".py",
   "mimetype": "text/x-python",
   "name": "python",
   "nbconvert_exporter": "python",
   "pygments_lexer": "ipython3",
   "version": "3.5.3"
  }
 },
 "nbformat": 4,
 "nbformat_minor": 1
}
