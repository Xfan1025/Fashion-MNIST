{
 "cells": [
  {
   "cell_type": "markdown",
   "metadata": {},
   "source": [
    "Convolutional Neural Network\n",
    "\n",
    "The network topology can be summarized as follows:\n",
    " * Convolutional layer with 32 feature maps of size 5×5.\n",
    " \n",
    "    Pooling layer taking the max over 2*2 patches.\n",
    "    \n",
    "    \n",
    " * Convolutional layer with 64 feature maps of size 5×5.\n",
    " \n",
    "    Pooling layer taking the max over 2*2 patches.\n",
    "    \n",
    "    \n",
    " * Convolutional layer with 128 feature maps of size 1×1.\n",
    " \n",
    "    Pooling layer taking the max over 2*2 patches.\n",
    "    \n",
    "    \n",
    " * Flatten layer.\n",
    " * Fully connected layer with 1024 neurons and rectifier activation.\n",
    " \n",
    "    Dropout layer with a probability of 50%.\n",
    "    \n",
    "    \n",
    " * Fully connected layer with 510 neurons and rectifier activation.\n",
    " \n",
    "    Dropout layer with a probability of 50%.\n",
    "    \n",
    "    \n",
    " * Output layer.\n"
   ]
  },
  {
   "cell_type": "code",
   "execution_count": 1,
   "metadata": {
    "_cell_guid": "2a46da40-444d-47a4-9829-94d4b05236dc",
    "_uuid": "ecba9230f6fc853da30cbdbb6b9c456d5a3a4930"
   },
   "outputs": [
    {
     "name": "stderr",
     "output_type": "stream",
     "text": [
      "/usr/local/lib/python3.5/site-packages/matplotlib/font_manager.py:280: UserWarning: Matplotlib is building the font cache using fc-list. This may take a moment.\n",
      "  'Matplotlib is building the font cache using fc-list. '\n",
      "Using TensorFlow backend.\n"
     ]
    }
   ],
   "source": [
    "# import essentials\n",
    "import numpy as np\n",
    "import pandas as pd\n",
    "import matplotlib.image as mpim\n",
    "import matplotlib.pyplot as plt\n",
    "%matplotlib inline\n",
    "\n",
    "from keras import backend as K\n",
    "K.set_image_dim_ordering('th')\n",
    "from keras.utils import np_utils\n",
    "from sklearn.model_selection import train_test_split\n",
    "from keras.models import Sequential\n",
    "from keras.layers import Dense, Dropout, Flatten, Reshape\n",
    "from keras.layers.convolutional import Conv2D, MaxPooling2D"
   ]
  },
  {
   "cell_type": "code",
   "execution_count": 2,
   "metadata": {
    "_cell_guid": "b574bf1b-b3a3-4e7d-9b59-e9aea6c99862",
    "_uuid": "1ca0e7d5369c09fc76ee761cc991ea1872886330",
    "collapsed": true
   },
   "outputs": [],
   "source": [
    "# read data\n",
    "train_data = pd.read_csv('./data/train.csv')\n",
    "test_data = pd.read_csv('./data/test.csv')"
   ]
  },
  {
   "cell_type": "code",
   "execution_count": 4,
   "metadata": {
    "_cell_guid": "e75dd0fd-2441-44b8-b628-11d61eefa3d3",
    "_uuid": "9f6d9e8e02ea6b0317bd01eb6e2b96daf5b0a154",
    "collapsed": true
   },
   "outputs": [],
   "source": [
    "# build a dictionary for easy access to object classes\n",
    "objects = {0: 'T-shirt/top',\n",
    "           1: 'Trouser',\n",
    "           2: 'Pullover',\n",
    "           3: 'Dress',\n",
    "           4: 'Coat',\n",
    "           5: 'Sandal',\n",
    "           6: 'Shirt',\n",
    "           7: 'Sneaker',\n",
    "           8: 'Bag',\n",
    "           9: 'Ankle boot'}"
   ]
  },
  {
   "cell_type": "code",
   "execution_count": 75,
   "metadata": {
    "_cell_guid": "da11c5af-3e43-4b5b-9de1-d1e625492974",
    "_uuid": "53bfdbbc4e0393a9f1148727996bf84eef54b405"
   },
   "outputs": [
    {
     "data": {
      "image/png": "[encoded data removed]",
      "text/plain": [
       "<matplotlib.figure.Figure at 0x7efd29c6d128>"
      ]
     },
     "metadata": {},
     "output_type": "display_data"
    }
   ],
   "source": [
    "# let's have a quick look of those images\n",
    "f, axes = plt.subplots(2, 4)\n",
    "for row in axes:\n",
    "    for axe in row:\n",
    "        index = np.random.randint(10000)\n",
    "        img = np.array(train_data.iloc[index, 1:]).reshape((28, 28))\n",
    "        obj = train_data.iloc[index, 0]\n",
    "        axe.imshow(img, cmap='gray')\n",
    "        axe.set_title(objects[obj])\n"
   ]
  },
  {
   "cell_type": "code",
   "execution_count": 7,
   "metadata": {
    "_cell_guid": "7abca928-b2ef-4998-8180-e0488af1d2b3",
    "_uuid": "01411f30fdc7e59c88e8af2870fe1d79047222d5",
    "collapsed": true
   },
   "outputs": [],
   "source": [
    "# separate the training data into images and labels\n",
    "images = train_data.iloc[:, 1:]\n",
    "labels = train_data.iloc[:, 0]"
   ]
  },
  {
   "cell_type": "code",
   "execution_count": 8,
   "metadata": {
    "_cell_guid": "9616dd5d-4ce9-46f2-9eeb-8d736ac05a2b",
    "_uuid": "29a563f4b1c470d802bedef9fe28d2834a38523b",
    "collapsed": true
   },
   "outputs": [],
   "source": [
    "# reshape the images to fit CNNs\n",
    "labels = labels.as_matrix()\n",
    "images = images.as_matrix().reshape(images.shape[0], 1, 28, 28)"
   ]
  },
  {
   "cell_type": "code",
   "execution_count": 9,
   "metadata": {
    "_cell_guid": "bdfd16f6-dc70-4488-9676-afac35996838",
    "_uuid": "917f0dec5c68c47bdc2d2c4c036d1e38b9e3a8bc",
    "collapsed": true
   },
   "outputs": [],
   "source": [
    "# features normalisation\n",
    "def normalize(image_data):\n",
    "    # Normalize the image data with Min-Max scaling to a range of [0.1, 0.9]\n",
    "    return (25.5 + 0.8 * image_data) / 255\n",
    "train_features = normalize(images)"
   ]
  },
  {
   "cell_type": "code",
   "execution_count": 10,
   "metadata": {
    "_cell_guid": "d484a082-3b63-46a7-8739-420de46b8880",
    "_uuid": "561cd36d95a751f871ce5b6db75687a63d7c7690",
    "collapsed": true
   },
   "outputs": [],
   "source": [
    "# one-hot encoding for labels\n",
    "train_labels = np_utils.to_categorical(labels)"
   ]
  },
  {
   "cell_type": "code",
   "execution_count": 11,
   "metadata": {
    "_cell_guid": "b6ab6d0a-f5f7-4a90-a8ab-c163bff3d1e6",
    "_uuid": "ec80d3320ba156b627be948a65570b168c01a119",
    "collapsed": true
   },
   "outputs": [],
   "source": [
    "# divide data into training and validation set\n",
    "train_features, vali_features, train_labels, vali_labels = train_test_split(train_features, train_labels, \n",
    "                                                                           test_size=0.15, random_state=80)"
   ]
  },
  {
   "cell_type": "code",
   "execution_count": 12,
   "metadata": {
    "_cell_guid": "05913b8b-d08a-499f-b20d-7f982c6fbbee",
    "_uuid": "12545f1ec9921f7c404bec78321e444be28da958"
   },
   "outputs": [
    {
     "name": "stdout",
     "output_type": "stream",
     "text": [
      "train_features shape:  (51000, 1, 28, 28)\n",
      "vali_features shape:  (9000, 1, 28, 28)\n",
      "train_labels shape:  (51000, 10)\n",
      "vali_labels shape:  (9000, 10)\n"
     ]
    }
   ],
   "source": [
    "# check data shapes\n",
    "print('train_features shape: ', train_features.shape)\n",
    "print('vali_features shape: ', vali_features.shape)\n",
    "print('train_labels shape: ', train_labels.shape)\n",
    "print('vali_labels shape: ', vali_labels.shape)\n"
   ]
  },
  {
   "cell_type": "code",
   "execution_count": 61,
   "metadata": {
    "_cell_guid": "b86402fd-0beb-437f-ba05-c7a9bf890023",
    "_uuid": "b866ec6bf3bc0464d0a882e0c3f14b4bdcafe536",
    "collapsed": true
   },
   "outputs": [],
   "source": [
    "# hyperparameters\n",
    "epochs = 50\n",
    "batch_size = 256\n",
    "\n",
    "# build model\n",
    "n_classes = 10\n",
    "model = Sequential()\n",
    "model.add(Conv2D(64, (5, 5), input_shape=(1, 28, 28), activation='relu',\n",
    "          bias_initializer='RandomNormal'))\n",
    "model.add(MaxPooling2D(pool_size=(2, 2)))\n",
    "model.add(Conv2D(128, (5, 5), activation='relu'))\n",
    "model.add(MaxPooling2D(pool_size=(2, 2)))\n",
    "model.add(Flatten())\n",
    "model.add(Dense(256, activation='relu'))\n",
    "model.add(Dropout(0.5))\n",
    "model.add(Dense(128, activation='relu'))\n",
    "model.add(Dropout(0.5))\n",
    "# model.add(Dense(64, activation='relu'))\n",
    "# model.add(Dropout(0.5))\n",
    "model.add(Dense(n_classes, activation='softmax'))"
   ]
  },
  {
   "cell_type": "code",
   "execution_count": null,
   "metadata": {
    "collapsed": true
   },
   "outputs": [],
   "source": []
  },
  {
   "cell_type": "code",
   "execution_count": 62,
   "metadata": {
    "_cell_guid": "dca9df43-814c-4463-9768-5427d5b312eb",
    "_uuid": "7c81ffd573b3f119dc631c597912e5dca5811e19",
    "collapsed": true
   },
   "outputs": [],
   "source": [
    "# optimizer, the learning rate will decay with time by default settings\n",
    "\n",
    "from keras.optimizers import Adam\n",
    "opt = Adam(decay=0.001)"
   ]
  },
  {
   "cell_type": "code",
   "execution_count": 63,
   "metadata": {
    "_cell_guid": "e79248a7-8dee-40fe-91e5-3389c634c39c",
    "_uuid": "66aac56507d15659b3c23b9282acd8e2b6b0f4ba",
    "collapsed": true
   },
   "outputs": [],
   "source": [
    "# compile the model\n",
    "model.compile(optimizer=opt,\n",
    "              loss='categorical_crossentropy',\n",
    "              metrics=['accuracy'])"
   ]
  },
  {
   "cell_type": "code",
   "execution_count": null,
   "metadata": {
    "collapsed": true
   },
   "outputs": [],
   "source": [
    "30"
   ]
  },
  {
   "cell_type": "code",
   "execution_count": 64,
   "metadata": {
    "_cell_guid": "41951e18-782f-4c61-bffe-17227b0900de",
    "_uuid": "4c355690a9be1b8f6d7a64d9734c8d2e6d8030c0",
    "scrolled": true
   },
   "outputs": [
    {
     "name": "stdout",
     "output_type": "stream",
     "text": [
      "Train on 51000 samples, validate on 9000 samples\n",
      "Epoch 1/50\n",
      "51000/51000 [==============================] - 18s - loss: 0.9220 - acc: 0.6583 - val_loss: 0.4765 - val_acc: 0.8233\n",
      "Epoch 2/50\n",
      "51000/51000 [==============================] - 17s - loss: 0.5360 - acc: 0.8039 - val_loss: 0.3941 - val_acc: 0.8522\n",
      "Epoch 3/50\n",
      "51000/51000 [==============================] - 17s - loss: 0.4508 - acc: 0.8415 - val_loss: 0.3457 - val_acc: 0.8743\n",
      "Epoch 4/50\n",
      "51000/51000 [==============================] - 17s - loss: 0.4021 - acc: 0.8585 - val_loss: 0.3172 - val_acc: 0.8836\n",
      "Epoch 5/50\n",
      "51000/51000 [==============================] - 17s - loss: 0.3687 - acc: 0.8711 - val_loss: 0.2984 - val_acc: 0.8898\n",
      "Epoch 6/50\n",
      "51000/51000 [==============================] - 17s - loss: 0.3460 - acc: 0.8788 - val_loss: 0.2884 - val_acc: 0.8949\n",
      "Epoch 7/50\n",
      "51000/51000 [==============================] - 17s - loss: 0.3300 - acc: 0.8846 - val_loss: 0.2753 - val_acc: 0.8968\n",
      "Epoch 8/50\n",
      "51000/51000 [==============================] - 17s - loss: 0.3111 - acc: 0.8905 - val_loss: 0.2745 - val_acc: 0.8966\n",
      "Epoch 9/50\n",
      "51000/51000 [==============================] - 17s - loss: 0.3004 - acc: 0.8938 - val_loss: 0.2645 - val_acc: 0.9028\n",
      "Epoch 10/50\n",
      "51000/51000 [==============================] - 17s - loss: 0.2871 - acc: 0.8996 - val_loss: 0.2551 - val_acc: 0.9059\n",
      "Epoch 11/50\n",
      "51000/51000 [==============================] - 17s - loss: 0.2760 - acc: 0.9035 - val_loss: 0.2567 - val_acc: 0.9056\n",
      "Epoch 12/50\n",
      "51000/51000 [==============================] - 17s - loss: 0.2669 - acc: 0.9062 - val_loss: 0.2529 - val_acc: 0.9074\n",
      "Epoch 13/50\n",
      "51000/51000 [==============================] - 17s - loss: 0.2568 - acc: 0.9089 - val_loss: 0.2423 - val_acc: 0.9136\n",
      "Epoch 14/50\n",
      "51000/51000 [==============================] - 17s - loss: 0.2491 - acc: 0.9113 - val_loss: 0.2379 - val_acc: 0.9161\n",
      "Epoch 15/50\n",
      "51000/51000 [==============================] - 17s - loss: 0.2416 - acc: 0.9143 - val_loss: 0.2363 - val_acc: 0.9159\n",
      "Epoch 16/50\n",
      "51000/51000 [==============================] - 17s - loss: 0.2340 - acc: 0.9174 - val_loss: 0.2361 - val_acc: 0.9144\n",
      "Epoch 17/50\n",
      "51000/51000 [==============================] - 17s - loss: 0.2284 - acc: 0.9196 - val_loss: 0.2350 - val_acc: 0.9166\n",
      "Epoch 18/50\n",
      "51000/51000 [==============================] - 17s - loss: 0.2227 - acc: 0.9210 - val_loss: 0.2310 - val_acc: 0.9179\n",
      "Epoch 19/50\n",
      "51000/51000 [==============================] - 17s - loss: 0.2151 - acc: 0.9234 - val_loss: 0.2299 - val_acc: 0.9167\n",
      "Epoch 20/50\n",
      "51000/51000 [==============================] - 17s - loss: 0.2103 - acc: 0.9255 - val_loss: 0.2309 - val_acc: 0.9151\n",
      "Epoch 21/50\n",
      "51000/51000 [==============================] - 17s - loss: 0.2063 - acc: 0.9282 - val_loss: 0.2289 - val_acc: 0.9202\n",
      "Epoch 22/50\n",
      "51000/51000 [==============================] - 17s - loss: 0.2009 - acc: 0.9283 - val_loss: 0.2275 - val_acc: 0.9166\n",
      "Epoch 23/50\n",
      "51000/51000 [==============================] - 17s - loss: 0.1939 - acc: 0.9320 - val_loss: 0.2259 - val_acc: 0.9200\n",
      "Epoch 24/50\n",
      "51000/51000 [==============================] - 17s - loss: 0.1897 - acc: 0.9326 - val_loss: 0.2283 - val_acc: 0.9188\n",
      "Epoch 25/50\n",
      "51000/51000 [==============================] - 17s - loss: 0.1900 - acc: 0.9337 - val_loss: 0.2288 - val_acc: 0.9193\n",
      "Epoch 26/50\n",
      "51000/51000 [==============================] - 17s - loss: 0.1848 - acc: 0.9355 - val_loss: 0.2218 - val_acc: 0.9212\n",
      "Epoch 27/50\n",
      "51000/51000 [==============================] - 17s - loss: 0.1783 - acc: 0.9363 - val_loss: 0.2295 - val_acc: 0.9188\n",
      "Epoch 28/50\n",
      "51000/51000 [==============================] - 17s - loss: 0.1747 - acc: 0.9386 - val_loss: 0.2324 - val_acc: 0.9198\n",
      "Epoch 29/50\n",
      "51000/51000 [==============================] - 17s - loss: 0.1712 - acc: 0.9382 - val_loss: 0.2220 - val_acc: 0.9210\n",
      "Epoch 30/50\n",
      "51000/51000 [==============================] - 17s - loss: 0.1675 - acc: 0.9415 - val_loss: 0.2270 - val_acc: 0.9224\n",
      "Epoch 31/50\n",
      "51000/51000 [==============================] - 17s - loss: 0.1638 - acc: 0.9421 - val_loss: 0.2234 - val_acc: 0.9223\n",
      "Epoch 32/50\n",
      "51000/51000 [==============================] - 17s - loss: 0.1588 - acc: 0.9442 - val_loss: 0.2322 - val_acc: 0.9207\n",
      "Epoch 33/50\n",
      "51000/51000 [==============================] - 17s - loss: 0.1570 - acc: 0.9439 - val_loss: 0.2292 - val_acc: 0.9232\n",
      "Epoch 34/50\n",
      "51000/51000 [==============================] - 17s - loss: 0.1549 - acc: 0.9460 - val_loss: 0.2277 - val_acc: 0.9240\n",
      "Epoch 35/50\n",
      "51000/51000 [==============================] - 17s - loss: 0.1546 - acc: 0.9455 - val_loss: 0.2314 - val_acc: 0.9207\n",
      "Epoch 36/50\n",
      "51000/51000 [==============================] - 17s - loss: 0.1496 - acc: 0.9475 - val_loss: 0.2334 - val_acc: 0.9212\n",
      "Epoch 37/50\n",
      "51000/51000 [==============================] - 17s - loss: 0.1478 - acc: 0.9484 - val_loss: 0.2296 - val_acc: 0.9236\n",
      "Epoch 38/50\n",
      "51000/51000 [==============================] - 17s - loss: 0.1429 - acc: 0.9496 - val_loss: 0.2296 - val_acc: 0.9240\n",
      "Epoch 39/50\n",
      "51000/51000 [==============================] - 17s - loss: 0.1412 - acc: 0.9504 - val_loss: 0.2287 - val_acc: 0.9237\n",
      "Epoch 40/50\n",
      "51000/51000 [==============================] - 17s - loss: 0.1392 - acc: 0.9501 - val_loss: 0.2304 - val_acc: 0.9244\n",
      "Epoch 41/50\n",
      "51000/51000 [==============================] - 17s - loss: 0.1374 - acc: 0.9509 - val_loss: 0.2311 - val_acc: 0.9244\n",
      "Epoch 42/50\n",
      "51000/51000 [==============================] - 17s - loss: 0.1333 - acc: 0.9527 - val_loss: 0.2410 - val_acc: 0.9221\n",
      "Epoch 43/50\n",
      "51000/51000 [==============================] - 17s - loss: 0.1325 - acc: 0.9532 - val_loss: 0.2334 - val_acc: 0.9241\n",
      "Epoch 44/50\n",
      "51000/51000 [==============================] - 17s - loss: 0.1304 - acc: 0.9538 - val_loss: 0.2342 - val_acc: 0.9243\n",
      "Epoch 45/50\n",
      "51000/51000 [==============================] - 17s - loss: 0.1271 - acc: 0.9545 - val_loss: 0.2383 - val_acc: 0.9232\n",
      "Epoch 46/50\n",
      "51000/51000 [==============================] - 17s - loss: 0.1255 - acc: 0.9554 - val_loss: 0.2356 - val_acc: 0.9253\n",
      "Epoch 47/50\n",
      "51000/51000 [==============================] - 17s - loss: 0.1224 - acc: 0.9560 - val_loss: 0.2379 - val_acc: 0.9241\n",
      "Epoch 48/50\n",
      "51000/51000 [==============================] - 17s - loss: 0.1218 - acc: 0.9579 - val_loss: 0.2396 - val_acc: 0.9254\n",
      "Epoch 49/50\n",
      "51000/51000 [==============================] - 17s - loss: 0.1201 - acc: 0.9579 - val_loss: 0.2420 - val_acc: 0.9251\n",
      "Epoch 50/50\n",
      "51000/51000 [==============================] - 17s - loss: 0.1184 - acc: 0.9584 - val_loss: 0.2426 - val_acc: 0.9242\n"
     ]
    }
   ],
   "source": [
    "# training\n",
    "training = model.fit(train_features, train_labels,\n",
    "                     validation_data=(vali_features, vali_labels),\n",
    "                     epochs=50,\n",
    "                     batch_size=batch_size, \n",
    "                     verbose=1)"
   ]
  },
  {
   "cell_type": "code",
   "execution_count": 78,
   "metadata": {},
   "outputs": [
    {
     "name": "stdout",
     "output_type": "stream",
     "text": [
      "Train on 51000 samples, validate on 9000 samples\n",
      "Epoch 1/5\n",
      "51000/51000 [==============================] - 17s - loss: 0.1083 - acc: 0.9618 - val_loss: 0.2410 - val_acc: 0.9267\n",
      "Epoch 2/5\n",
      "51000/51000 [==============================] - 17s - loss: 0.1055 - acc: 0.9635 - val_loss: 0.2467 - val_acc: 0.9272\n",
      "Epoch 3/5\n",
      "51000/51000 [==============================] - 17s - loss: 0.1036 - acc: 0.9630 - val_loss: 0.2486 - val_acc: 0.9269\n",
      "Epoch 4/5\n",
      "51000/51000 [==============================] - 17s - loss: 0.1044 - acc: 0.9630 - val_loss: 0.2488 - val_acc: 0.9248\n",
      "Epoch 5/5\n",
      "51000/51000 [==============================] - 17s - loss: 0.1034 - acc: 0.9636 - val_loss: 0.2451 - val_acc: 0.9248\n"
     ]
    }
   ],
   "source": [
    "training2 = model.fit(train_features, train_labels,\n",
    "                     validation_data=(vali_features, vali_labels),\n",
    "                     epochs=5,\n",
    "                     batch_size=batch_size, \n",
    "                     verbose=1)"
   ]
  },
  {
   "cell_type": "code",
   "execution_count": 65,
   "metadata": {},
   "outputs": [
    {
     "data": {
      "image/png": "[encoded data removed]",
      "text/plain": [
       "<matplotlib.figure.Figure at 0x7efd2a821278>"
      ]
     },
     "metadata": {},
     "output_type": "display_data"
    },
    {
     "data": {
      "image/png": "[encoded data removed]",
      "text/plain": [
       "<matplotlib.figure.Figure at 0x7efd2afd36a0>"
      ]
     },
     "metadata": {},
     "output_type": "display_data"
    }
   ],
   "source": [
    "# show the loss and accuracy\n",
    "loss = training.history['loss']\n",
    "val_loss = training.history['val_loss']\n",
    "acc = training.history['acc']\n",
    "val_acc = training.history['val_acc']\n",
    "\n",
    "# loss plot\n",
    "tra = plt.plot(loss)\n",
    "val = plt.plot(val_loss, 'r')\n",
    "plt.xlabel('Epochs')\n",
    "plt.ylabel('Loss')\n",
    "plt.title('Loss')\n",
    "plt.legend([\"Training\", \"Validation\"])\n",
    "\n",
    "plt.show()\n",
    "\n",
    "# accuracy plot\n",
    "plt.plot(acc)\n",
    "plt.plot(val_acc, 'r')\n",
    "plt.xlabel('Epochs')\n",
    "plt.ylabel('Loss')\n",
    "plt.title('Accuracy')\n",
    "plt.legend(['Training', 'Validation'], loc=4)\n",
    "plt.show()"
   ]
  },
  {
   "cell_type": "code",
   "execution_count": null,
   "metadata": {
    "collapsed": true
   },
   "outputs": [],
   "source": []
  },
  {
   "cell_type": "code",
   "execution_count": null,
   "metadata": {
    "collapsed": true
   },
   "outputs": [],
   "source": []
  },
  {
   "cell_type": "code",
   "execution_count": 66,
   "metadata": {
    "_cell_guid": "76748dc5-cd6c-4af9-b4da-6c7c34baa75a",
    "_uuid": "391704a5b8526a35012390e2a4b080014ec93ccf"
   },
   "outputs": [],
   "source": [
    "test_images = test_data.iloc[:, 1:]\n",
    "test_labels = test_data.iloc[:, 0]\n",
    "test_labels = test_labels.as_matrix()\n",
    "test_images = test_images.as_matrix().reshape(test_images.shape[0], 1, 28, 28)\n",
    "test_features = normalize(test_images)\n"
   ]
  },
  {
   "cell_type": "code",
   "execution_count": 67,
   "metadata": {
    "_cell_guid": "95d2c70b-6d36-43a5-9e87-fba511e5e203",
    "_uuid": "da3c749102e096c5a27cba30fbb401c1a4f02757",
    "collapsed": true,
    "scrolled": true
   },
   "outputs": [],
   "source": [
    "from sklearn.metrics import accuracy_score\n",
    "pred = model.predict(test_features)\n",
    "# convert predicions from categorical back to 0...9 digits\n",
    "pred_digits = np.argmax(pred, axis=1)"
   ]
  },
  {
   "cell_type": "code",
   "execution_count": 68,
   "metadata": {
    "_cell_guid": "6eeec6de-125a-42cf-aaf2-7d1fc5a97bdc",
    "_uuid": "7f8c2336391815120ff1dca3afb9b46636038497"
   },
   "outputs": [
    {
     "data": {
      "text/plain": [
       "0.9214"
      ]
     },
     "execution_count": 68,
     "metadata": {},
     "output_type": "execute_result"
    }
   ],
   "source": [
    "accuracy_score(test_labels, pred_digits)"
   ]
  },
  {
   "cell_type": "code",
   "execution_count": null,
   "metadata": {
    "_cell_guid": "702dbfa2-9125-42f3-8228-3a56210b1724",
    "_uuid": "8dc38949aa64c1c5b8113fa14653944fe22c2616",
    "collapsed": true
   },
   "outputs": [],
   "source": []
  },
  {
   "cell_type": "markdown",
   "metadata": {
    "_cell_guid": "779e52c2-ffeb-4a19-a918-0ac3398548fe",
    "_uuid": "d09074914146365c5f3575f81033592fbb3622e3",
    "collapsed": true
   },
   "source": [
    "# original MNIST"
   ]
  },
  {
   "cell_type": "code",
   "execution_count": 102,
   "metadata": {},
   "outputs": [],
   "source": [
    "from keras.datasets import mnist\n",
    "\n",
    "(x_train, y_train), (x_test, y_test) = mnist.load_data()"
   ]
  },
  {
   "cell_type": "code",
   "execution_count": 103,
   "metadata": {},
   "outputs": [
    {
     "data": {
      "image/png": "[encoded data removed]",
      "text/plain": [
       "<matplotlib.figure.Figure at 0x7efd29376f28>"
      ]
     },
     "metadata": {},
     "output_type": "display_data"
    }
   ],
   "source": [
    "f, axes = plt.subplots(2, 4)\n",
    "for row in axes:\n",
    "    for axe in row:\n",
    "        index = np.random.randint(10000)\n",
    "        img = x_train[index]\n",
    "        obj = y_train[index]\n",
    "        axe.imshow(img, cmap='gray')\n",
    "        axe.set_title(obj)"
   ]
  },
  {
   "cell_type": "code",
   "execution_count": 104,
   "metadata": {
    "scrolled": true
   },
   "outputs": [],
   "source": [
    "x_train = x_train.reshape((x_train.shape[0], 1, 28, 28))\n",
    "x_test = x_test.reshape((x_test.shape[0], 1, 28, 28))"
   ]
  },
  {
   "cell_type": "code",
   "execution_count": 105,
   "metadata": {
    "collapsed": true
   },
   "outputs": [],
   "source": [
    "train_features = normalize(x_train)\n",
    "train_labels = np_utils.to_categorical(y_train)\n",
    "\n",
    "# divide data into training and validation set\n",
    "train_features, vali_features, train_labels, vali_labels = train_test_split(train_features, train_labels, \n",
    "                                                                           test_size=0.15, random_state=80)"
   ]
  },
  {
   "cell_type": "code",
   "execution_count": 106,
   "metadata": {
    "collapsed": true
   },
   "outputs": [],
   "source": [
    "# hyperparameters\n",
    "epochs = 50\n",
    "batch_size = 256\n",
    "\n",
    "# build model\n",
    "n_classes = 10\n",
    "model = Sequential()\n",
    "model.add(Conv2D(64, (5, 5), input_shape=(1, 28, 28), activation='relu',\n",
    "          bias_initializer='RandomNormal'))\n",
    "model.add(MaxPooling2D(pool_size=(2, 2)))\n",
    "model.add(Conv2D(128, (5, 5), activation='relu'))\n",
    "model.add(MaxPooling2D(pool_size=(2, 2)))\n",
    "model.add(Flatten())\n",
    "model.add(Dense(256, activation='relu'))\n",
    "model.add(Dropout(0.5))\n",
    "model.add(Dense(128, activation='relu'))\n",
    "model.add(Dropout(0.5))\n",
    "# model.add(Dense(64, activation='relu'))\n",
    "# model.add(Dropout(0.5))\n",
    "model.add(Dense(n_classes, activation='softmax'))"
   ]
  },
  {
   "cell_type": "code",
   "execution_count": 107,
   "metadata": {
    "collapsed": true
   },
   "outputs": [],
   "source": [
    "# optimizer, the learning rate will decay with time by default settings\n",
    "\n",
    "from keras.optimizers import Adam\n",
    "opt = Adam(decay=0.001)\n",
    "# compile the model\n",
    "model.compile(optimizer=opt,\n",
    "              loss='categorical_crossentropy',\n",
    "              metrics=['accuracy'])"
   ]
  },
  {
   "cell_type": "code",
   "execution_count": 108,
   "metadata": {},
   "outputs": [
    {
     "name": "stdout",
     "output_type": "stream",
     "text": [
      "Train on 51000 samples, validate on 9000 samples\n",
      "Epoch 1/50\n",
      "51000/51000 [==============================] - 18s - loss: 0.4653 - acc: 0.8498 - val_loss: 0.0775 - val_acc: 0.9763\n",
      "Epoch 2/50\n",
      "51000/51000 [==============================] - 17s - loss: 0.1105 - acc: 0.9688 - val_loss: 0.0488 - val_acc: 0.9854\n",
      "Epoch 3/50\n",
      "51000/51000 [==============================] - 17s - loss: 0.0765 - acc: 0.9790 - val_loss: 0.0381 - val_acc: 0.9874\n",
      "Epoch 4/50\n",
      "51000/51000 [==============================] - 17s - loss: 0.0588 - acc: 0.9835 - val_loss: 0.0352 - val_acc: 0.9899\n",
      "Epoch 5/50\n",
      "51000/51000 [==============================] - 17s - loss: 0.0506 - acc: 0.9862 - val_loss: 0.0273 - val_acc: 0.9919\n",
      "Epoch 6/50\n",
      "51000/51000 [==============================] - 17s - loss: 0.0428 - acc: 0.9887 - val_loss: 0.0290 - val_acc: 0.9926\n",
      "Epoch 7/50\n",
      "51000/51000 [==============================] - 17s - loss: 0.0349 - acc: 0.9906 - val_loss: 0.0274 - val_acc: 0.9921\n",
      "Epoch 8/50\n",
      "51000/51000 [==============================] - 17s - loss: 0.0298 - acc: 0.9918 - val_loss: 0.0302 - val_acc: 0.9917\n",
      "Epoch 9/50\n",
      "51000/51000 [==============================] - 17s - loss: 0.0270 - acc: 0.9929 - val_loss: 0.0289 - val_acc: 0.9924\n",
      "Epoch 10/50\n",
      "51000/51000 [==============================] - 17s - loss: 0.0236 - acc: 0.9935 - val_loss: 0.0251 - val_acc: 0.9932\n",
      "Epoch 11/50\n",
      "51000/51000 [==============================] - 17s - loss: 0.0202 - acc: 0.9946 - val_loss: 0.0247 - val_acc: 0.9941\n",
      "Epoch 12/50\n",
      "51000/51000 [==============================] - 17s - loss: 0.0192 - acc: 0.9943 - val_loss: 0.0266 - val_acc: 0.9936\n",
      "Epoch 13/50\n",
      "51000/51000 [==============================] - 17s - loss: 0.0179 - acc: 0.9950 - val_loss: 0.0268 - val_acc: 0.9930\n",
      "Epoch 14/50\n",
      "51000/51000 [==============================] - 17s - loss: 0.0153 - acc: 0.9955 - val_loss: 0.0302 - val_acc: 0.9924\n",
      "Epoch 15/50\n",
      "51000/51000 [==============================] - 17s - loss: 0.0150 - acc: 0.9957 - val_loss: 0.0256 - val_acc: 0.9943\n",
      "Epoch 16/50\n",
      "51000/51000 [==============================] - 17s - loss: 0.0125 - acc: 0.9964 - val_loss: 0.0275 - val_acc: 0.9932\n",
      "Epoch 17/50\n",
      "51000/51000 [==============================] - 17s - loss: 0.0123 - acc: 0.9965 - val_loss: 0.0256 - val_acc: 0.9941\n",
      "Epoch 18/50\n",
      "51000/51000 [==============================] - 17s - loss: 0.0112 - acc: 0.9968 - val_loss: 0.0270 - val_acc: 0.9943\n",
      "Epoch 19/50\n",
      "51000/51000 [==============================] - 17s - loss: 0.0103 - acc: 0.9970 - val_loss: 0.0289 - val_acc: 0.9931\n",
      "Epoch 20/50\n",
      "51000/51000 [==============================] - 17s - loss: 0.0089 - acc: 0.9974 - val_loss: 0.0251 - val_acc: 0.9938\n",
      "Epoch 21/50\n",
      "51000/51000 [==============================] - 17s - loss: 0.0084 - acc: 0.9976 - val_loss: 0.0271 - val_acc: 0.9944\n",
      "Epoch 22/50\n",
      "51000/51000 [==============================] - 17s - loss: 0.0076 - acc: 0.9978 - val_loss: 0.0258 - val_acc: 0.9944\n",
      "Epoch 23/50\n",
      "51000/51000 [==============================] - 17s - loss: 0.0085 - acc: 0.9975 - val_loss: 0.0271 - val_acc: 0.9937\n",
      "Epoch 24/50\n",
      "51000/51000 [==============================] - 17s - loss: 0.0073 - acc: 0.9979 - val_loss: 0.0272 - val_acc: 0.9942\n",
      "Epoch 25/50\n",
      "51000/51000 [==============================] - 17s - loss: 0.0068 - acc: 0.9980 - val_loss: 0.0260 - val_acc: 0.9943\n",
      "Epoch 26/50\n",
      "51000/51000 [==============================] - 17s - loss: 0.0066 - acc: 0.9981 - val_loss: 0.0272 - val_acc: 0.9947\n",
      "Epoch 27/50\n",
      "51000/51000 [==============================] - 17s - loss: 0.0058 - acc: 0.9985 - val_loss: 0.0269 - val_acc: 0.9947\n",
      "Epoch 28/50\n",
      "51000/51000 [==============================] - 17s - loss: 0.0052 - acc: 0.9985 - val_loss: 0.0267 - val_acc: 0.9939\n",
      "Epoch 29/50\n",
      "51000/51000 [==============================] - 17s - loss: 0.0046 - acc: 0.9988 - val_loss: 0.0271 - val_acc: 0.9944\n",
      "Epoch 30/50\n",
      "51000/51000 [==============================] - 17s - loss: 0.0053 - acc: 0.9985 - val_loss: 0.0271 - val_acc: 0.9947\n",
      "Epoch 31/50\n",
      "51000/51000 [==============================] - 17s - loss: 0.0056 - acc: 0.9984 - val_loss: 0.0271 - val_acc: 0.9951\n",
      "Epoch 32/50\n",
      "51000/51000 [==============================] - 17s - loss: 0.0049 - acc: 0.9987 - val_loss: 0.0272 - val_acc: 0.9946\n",
      "Epoch 33/50\n",
      "51000/51000 [==============================] - 17s - loss: 0.0044 - acc: 0.9988 - val_loss: 0.0281 - val_acc: 0.9940\n",
      "Epoch 34/50\n",
      "51000/51000 [==============================] - 17s - loss: 0.0038 - acc: 0.9989 - val_loss: 0.0260 - val_acc: 0.9948\n",
      "Epoch 35/50\n",
      "51000/51000 [==============================] - 17s - loss: 0.0038 - acc: 0.9988 - val_loss: 0.0305 - val_acc: 0.9946\n",
      "Epoch 36/50\n",
      "51000/51000 [==============================] - 17s - loss: 0.0043 - acc: 0.9988 - val_loss: 0.0274 - val_acc: 0.9946\n",
      "Epoch 37/50\n",
      "51000/51000 [==============================] - 17s - loss: 0.0030 - acc: 0.9992 - val_loss: 0.0279 - val_acc: 0.9949\n",
      "Epoch 38/50\n",
      "51000/51000 [==============================] - 17s - loss: 0.0042 - acc: 0.9989 - val_loss: 0.0271 - val_acc: 0.9944\n",
      "Epoch 39/50\n",
      "51000/51000 [==============================] - 17s - loss: 0.0029 - acc: 0.9994 - val_loss: 0.0274 - val_acc: 0.9948\n",
      "Epoch 40/50\n",
      "51000/51000 [==============================] - 17s - loss: 0.0033 - acc: 0.9991 - val_loss: 0.0278 - val_acc: 0.9950\n",
      "Epoch 41/50\n",
      "51000/51000 [==============================] - 17s - loss: 0.0030 - acc: 0.9992 - val_loss: 0.0288 - val_acc: 0.9943\n",
      "Epoch 42/50\n",
      "51000/51000 [==============================] - 17s - loss: 0.0029 - acc: 0.9992 - val_loss: 0.0282 - val_acc: 0.9947\n",
      "Epoch 43/50\n",
      "51000/51000 [==============================] - 17s - loss: 0.0026 - acc: 0.9992 - val_loss: 0.0286 - val_acc: 0.9950\n",
      "Epoch 44/50\n",
      "51000/51000 [==============================] - 17s - loss: 0.0026 - acc: 0.9993 - val_loss: 0.0295 - val_acc: 0.9946\n",
      "Epoch 45/50\n",
      "51000/51000 [==============================] - 17s - loss: 0.0026 - acc: 0.9992 - val_loss: 0.0299 - val_acc: 0.9944\n",
      "Epoch 46/50\n",
      "51000/51000 [==============================] - 17s - loss: 0.0019 - acc: 0.9995 - val_loss: 0.0287 - val_acc: 0.9947\n",
      "Epoch 47/50\n",
      "51000/51000 [==============================] - 17s - loss: 0.0023 - acc: 0.9995 - val_loss: 0.0295 - val_acc: 0.9942\n",
      "Epoch 48/50\n",
      "51000/51000 [==============================] - 17s - loss: 0.0019 - acc: 0.9994 - val_loss: 0.0313 - val_acc: 0.9949\n",
      "Epoch 49/50\n",
      "51000/51000 [==============================] - 17s - loss: 0.0022 - acc: 0.9994 - val_loss: 0.0316 - val_acc: 0.9946\n",
      "Epoch 50/50\n",
      "51000/51000 [==============================] - 17s - loss: 0.0024 - acc: 0.9994 - val_loss: 0.0324 - val_acc: 0.9948\n"
     ]
    }
   ],
   "source": [
    "\n",
    "\n",
    "training = model.fit(train_features, train_labels,\n",
    "                     validation_data=(vali_features, vali_labels),\n",
    "                     epochs=50,\n",
    "                     batch_size=batch_size, \n",
    "                     verbose=1)\n",
    "\n"
   ]
  },
  {
   "cell_type": "code",
   "execution_count": 109,
   "metadata": {},
   "outputs": [
    {
     "data": {
      "image/png": "[encoded data removed]",
      "text/plain": [
       "<matplotlib.figure.Figure at 0x7efd287c08d0>"
      ]
     },
     "metadata": {},
     "output_type": "display_data"
    },
    {
     "data": {
      "image/png": "[encoded data removed]",
      "text/plain": [
       "<matplotlib.figure.Figure at 0x7efd298633c8>"
      ]
     },
     "metadata": {},
     "output_type": "display_data"
    }
   ],
   "source": [
    "# show the loss and accuracy\n",
    "loss = training.history['loss']\n",
    "val_loss = training.history['val_loss']\n",
    "acc = training.history['acc']\n",
    "val_acc = training.history['val_acc']\n",
    "\n",
    "# loss plot\n",
    "tra = plt.plot(loss)\n",
    "val = plt.plot(val_loss, 'r')\n",
    "plt.xlabel('Epochs')\n",
    "plt.ylabel('Loss')\n",
    "plt.title('Loss')\n",
    "plt.legend([\"Training\", \"Validation\"])\n",
    "\n",
    "plt.show()\n",
    "\n",
    "# accuracy plot\n",
    "plt.plot(acc)\n",
    "plt.plot(val_acc, 'r')\n",
    "plt.xlabel('Epochs')\n",
    "plt.ylabel('Loss')\n",
    "plt.title('Accuracy')\n",
    "plt.legend(['Training', 'Validation'], loc=4)\n",
    "plt.show()"
   ]
  },
  {
   "cell_type": "code",
   "execution_count": 110,
   "metadata": {
    "collapsed": true
   },
   "outputs": [],
   "source": [
    "test_features = normalize(x_test)\n",
    "test_labels = y_test\n",
    "pred = model.predict(test_features)\n",
    "# convert predicions from categorical back to 0...9 digits\n",
    "pred_digits = np.argmax(pred, axis=1)\n"
   ]
  },
  {
   "cell_type": "code",
   "execution_count": 111,
   "metadata": {},
   "outputs": [
    {
     "data": {
      "text/plain": [
       "0.99419999999999997"
      ]
     },
     "execution_count": 111,
     "metadata": {},
     "output_type": "execute_result"
    }
   ],
   "source": [
    "accuracy_score(test_labels, pred_digits)"
   ]
  },
  {
   "cell_type": "code",
   "execution_count": null,
   "metadata": {
    "collapsed": true
   },
   "outputs": [],
   "source": []
  }
 ],
 "metadata": {
  "kernelspec": {
   "display_name": "Python 3",
   "language": "python",
   "name": "python3"
  },
  "language_info": {
   "codemirror_mode": {
    "name": "ipython",
    "version": 3
   },
   "file_extension": ".py",
   "mimetype": "text/x-python",
   "name": "python",
   "nbconvert_exporter": "python",
   "pygments_lexer": "ipython3",
   "version": "3.5.3"
  }
 },
 "nbformat": 4,
 "nbformat_minor": 1
}
